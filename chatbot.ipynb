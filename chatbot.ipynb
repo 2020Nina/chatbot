{
  "cells": [
    {
      "cell_type": "markdown",
      "metadata": {
        "id": "view-in-github",
        "colab_type": "text"
      },
      "source": [
        "<a href=\"https://colab.research.google.com/github/2020Nina/chatbot/blob/main/chatbot.ipynb\" target=\"_parent\"><img src=\"https://colab.research.google.com/assets/colab-badge.svg\" alt=\"Open In Colab\"/></a>"
      ]
    },
    {
      "cell_type": "markdown",
      "metadata": {
        "id": "etQXXKJ1MR4y"
      },
      "source": [
        "# Chatbot\n",
        "Un chatbot es un software inteligente que es capaz de comunicarse y realizar acciones similares a las de un humano. El objetivo de este proyecto es construir un modelo que prediga respuestas utilizando patrones y respuestas predefinidos. Se le proporciona un archivo llamado intents.json que contiene estos patrones. Los archivos de palabras y clases se proporcionan como ayuda adicional. Siéntase libre de crear un bot más complejo ampliando el archivo de intenciones.\n",
        "#### Possible chat with your bot\n",
        "<code>\n",
        "You: Hello, how are you?\n",
        "\n",
        "Bot: Hi there, how can I help?\n",
        "\n",
        "You: what can you do?\n",
        "\n",
        "Bot: I can guide you through Adverse drug reaction list, Blood pressure tracking, Hospitals and Pharmacies\n",
        "\n",
        "You: thanks\n",
        "\n",
        "Bot: My pleasure\n",
        "\n",
        "You: see ya. got to go!\n",
        "\n",
        "Bot: See you\n",
        "</code>"
      ]
    },
    {
      "cell_type": "code",
      "execution_count": null,
      "metadata": {
        "id": "H-0JCliEMZl_"
      },
      "outputs": [],
      "source": [
        "# Librerias que voy a utilizar\n",
        "import pandas as pd\n",
        "import json\n",
        "import pickle\n",
        "import urllib\n",
        "import requests\n",
        "from sklearn.neighbors import KNeighborsClassifier\n",
        "from sklearn.svm import SVC\n",
        "from sklearn.tree import DecisionTreeClassifier\n",
        "from sklearn.naive_bayes import GaussianNB\n",
        "from sklearn.ensemble import RandomForestClassifier, VotingClassifier\n",
        "from sklearn.model_selection import train_test_split, KFold, cross_val_predict\n",
        "from sklearn.preprocessing import StandardScaler\n",
        "from sklearn.metrics import confusion_matrix, precision_score, recall_score, f1_score, accuracy_score\n",
        "from sklearn.feature_extraction.text import CountVectorizer"
      ]
    },
    {
      "cell_type": "markdown",
      "metadata": {
        "id": "uPUiWyhftAsf"
      },
      "source": [
        "En esta sección, se importaron las bibliotecas necesarias para realizar diversas tareas en el script. Algunas de estas bibliotecas incluyen urllib para manejar URL y cargar datos, pickle para serializar y deserializar objetos Python, random para la generación de números aleatorios, numpy para operaciones numéricas, y las bibliotecas relacionadas con scikit-learn (DecisionTreeClassifier, CountVectorizer, y make_pipeline) para construir y entrenar el modelo de árbol de decisiones."
      ]
    },
    {
      "cell_type": "code",
      "execution_count": null,
      "metadata": {
        "id": "_VbGlWadMR41"
      },
      "outputs": [],
      "source": [
        "# Carga de datos\n",
        "classes = pickle.load(urllib.request.urlopen(\"https://raw.githubusercontent.com/emmanueliarussi/DataScienceCapstone/master/3_MidtermProjects/ProjectPCB/data/classes.pkl\"))\n",
        "intents = json.loads(requests.get(\"https://raw.githubusercontent.com/emmanueliarussi/DataScienceCapstone/master/3_MidtermProjects/ProjectPCB/data/intents.json\").text)"
      ]
    },
    {
      "cell_type": "code",
      "source": [
        "\n",
        "intents"
      ],
      "metadata": {
        "id": "NAjwRDHxIE2v",
        "colab": {
          "base_uri": "https://localhost:8080/"
        },
        "outputId": "bba9625d-bf66-413c-83ee-0033175f8548"
      },
      "execution_count": null,
      "outputs": [
        {
          "output_type": "execute_result",
          "data": {
            "text/plain": [
              "{'intents': [{'tag': 'greeting',\n",
              "   'patterns': ['Hi there',\n",
              "    'How are you',\n",
              "    'Is anyone there?',\n",
              "    'Hey',\n",
              "    'Hola',\n",
              "    'Hello',\n",
              "    'Good day'],\n",
              "   'responses': ['Hello, thanks for asking',\n",
              "    'Good to see you again',\n",
              "    'Hi there, how can I help?'],\n",
              "   'context': ['']},\n",
              "  {'tag': 'goodbye',\n",
              "   'patterns': ['Bye',\n",
              "    'See you later',\n",
              "    'Goodbye',\n",
              "    'Nice chatting to you, bye',\n",
              "    'Till next time'],\n",
              "   'responses': ['See you!', 'Have a nice day', 'Bye! Come back again soon.'],\n",
              "   'context': ['']},\n",
              "  {'tag': 'thanks',\n",
              "   'patterns': ['Thanks',\n",
              "    'Thank you',\n",
              "    \"That's helpful\",\n",
              "    'Awesome, thanks',\n",
              "    'Thanks for helping me'],\n",
              "   'responses': ['Happy to help!', 'Any time!', 'My pleasure'],\n",
              "   'context': ['']},\n",
              "  {'tag': 'noanswer',\n",
              "   'patterns': [],\n",
              "   'responses': [\"Sorry, can't understand you\",\n",
              "    'Please give me more info',\n",
              "    'Not sure I understand'],\n",
              "   'context': ['']},\n",
              "  {'tag': 'options',\n",
              "   'patterns': ['How you could help me?',\n",
              "    'What you can do?',\n",
              "    'What help you provide?',\n",
              "    'How you can be helpful?',\n",
              "    'What support is offered'],\n",
              "   'responses': ['I can guide you through Adverse drug reaction list, Blood pressure tracking, Hospitals and Pharmacies',\n",
              "    'Offering support for Adverse drug reaction, Blood pressure, Hospitals and Pharmacies'],\n",
              "   'context': ['']},\n",
              "  {'tag': 'adverse_drug',\n",
              "   'patterns': ['How to check Adverse drug reaction?',\n",
              "    'Open adverse drugs module',\n",
              "    'Give me a list of drugs causing adverse behavior',\n",
              "    'List all drugs suitable for patient with adverse reaction',\n",
              "    'Which drugs dont have adverse reaction?'],\n",
              "   'responses': ['Navigating to Adverse drug reaction module'],\n",
              "   'context': ['']},\n",
              "  {'tag': 'blood_pressure',\n",
              "   'patterns': ['Open blood pressure module',\n",
              "    'Task related to blood pressure',\n",
              "    'Blood pressure data entry',\n",
              "    'I want to log blood pressure results',\n",
              "    'Blood pressure data management'],\n",
              "   'responses': ['Navigating to Blood Pressure module'],\n",
              "   'context': ['']},\n",
              "  {'tag': 'blood_pressure_search',\n",
              "   'patterns': ['I want to search for blood pressure result history',\n",
              "    'Blood pressure for patient',\n",
              "    'Load patient blood pressure result',\n",
              "    'Show blood pressure results for patient',\n",
              "    'Find blood pressure results by ID'],\n",
              "   'responses': ['Please provide Patient ID', 'Patient ID?'],\n",
              "   'context': ['search_blood_pressure_by_patient_id']},\n",
              "  {'tag': 'search_blood_pressure_by_patient_id',\n",
              "   'patterns': [],\n",
              "   'responses': ['Loading Blood pressure result for Patient'],\n",
              "   'context': ['']},\n",
              "  {'tag': 'pharmacy_search',\n",
              "   'patterns': ['Find me a pharmacy',\n",
              "    'Find pharmacy',\n",
              "    'List of pharmacies nearby',\n",
              "    'Locate pharmacy',\n",
              "    'Search pharmacy'],\n",
              "   'responses': ['Please provide pharmacy name'],\n",
              "   'context': ['search_pharmacy_by_name']},\n",
              "  {'tag': 'search_pharmacy_by_name',\n",
              "   'patterns': [],\n",
              "   'responses': ['Loading pharmacy details'],\n",
              "   'context': ['']},\n",
              "  {'tag': 'hospital_search',\n",
              "   'patterns': ['Lookup for hospital',\n",
              "    'Searching for hospital to transfer patient',\n",
              "    'I want to search hospital data',\n",
              "    'Hospital lookup for patient',\n",
              "    'Looking up hospital details'],\n",
              "   'responses': ['Please provide hospital name or location'],\n",
              "   'context': ['search_hospital_by_params']},\n",
              "  {'tag': 'search_hospital_by_params',\n",
              "   'patterns': [],\n",
              "   'responses': ['Please provide hospital type'],\n",
              "   'context': ['search_hospital_by_type']},\n",
              "  {'tag': 'search_hospital_by_type',\n",
              "   'patterns': [],\n",
              "   'responses': ['Loading hospital details'],\n",
              "   'context': ['']}]}"
            ]
          },
          "metadata": {},
          "execution_count": 3
        }
      ]
    },
    {
      "cell_type": "code",
      "source": [
        "# Crear un DataFrame de pandas para facilitar el procesamiento\n",
        "df_intents = pd.DataFrame(intents['intents'])\n",
        "\n",
        "# Separar los patrones y las respuestas en columnas separadas\n",
        "df_patterns = df_intents['patterns'].apply(lambda x: pd.Series(x) if x else pd.Series(dtype=str)).stack().reset_index(level=1, drop=True).to_frame('pattern')\n",
        "df_responses = df_intents['responses'].apply(lambda x: pd.Series(x) if x else pd.Series(dtype=str)).stack().reset_index(level=1, drop=True).to_frame('response')\n",
        "\n",
        "# Unir las columnas de patrones y respuestas con el DataFrame original\n",
        "df_intents = df_intents.join(df_patterns).join(df_responses)\n",
        "\n",
        "# Eliminar filas con valores nulos en las columnas 'pattern' y 'response'\n",
        "df_intents.dropna(subset=['pattern', 'response'], inplace=True)\n",
        "\n",
        "# Resetear índice\n",
        "df_intents.reset_index(drop=True, inplace=True)\n",
        "\n",
        "# Mostrar el DataFrame resultante\n",
        "print(df_intents)"
      ],
      "metadata": {
        "colab": {
          "base_uri": "https://localhost:8080/"
        },
        "id": "yKUkyDL_v63j",
        "outputId": "3f956ff3-2f93-41e1-9f83-11edfd7154ac"
      },
      "execution_count": null,
      "outputs": [
        {
          "output_type": "stream",
          "name": "stdout",
          "text": [
            "                tag                                           patterns  \\\n",
            "0          greeting  [Hi there, How are you, Is anyone there?, Hey,...   \n",
            "1          greeting  [Hi there, How are you, Is anyone there?, Hey,...   \n",
            "2          greeting  [Hi there, How are you, Is anyone there?, Hey,...   \n",
            "3          greeting  [Hi there, How are you, Is anyone there?, Hey,...   \n",
            "4          greeting  [Hi there, How are you, Is anyone there?, Hey,...   \n",
            "..              ...                                                ...   \n",
            "86  hospital_search  [Lookup for hospital, Searching for hospital t...   \n",
            "87  hospital_search  [Lookup for hospital, Searching for hospital t...   \n",
            "88  hospital_search  [Lookup for hospital, Searching for hospital t...   \n",
            "89  hospital_search  [Lookup for hospital, Searching for hospital t...   \n",
            "90  hospital_search  [Lookup for hospital, Searching for hospital t...   \n",
            "\n",
            "                                            responses  \\\n",
            "0   [Hello, thanks for asking, Good to see you aga...   \n",
            "1   [Hello, thanks for asking, Good to see you aga...   \n",
            "2   [Hello, thanks for asking, Good to see you aga...   \n",
            "3   [Hello, thanks for asking, Good to see you aga...   \n",
            "4   [Hello, thanks for asking, Good to see you aga...   \n",
            "..                                                ...   \n",
            "86         [Please provide hospital name or location]   \n",
            "87         [Please provide hospital name or location]   \n",
            "88         [Please provide hospital name or location]   \n",
            "89         [Please provide hospital name or location]   \n",
            "90         [Please provide hospital name or location]   \n",
            "\n",
            "                        context                                     pattern  \\\n",
            "0                            []                                    Hi there   \n",
            "1                            []                                    Hi there   \n",
            "2                            []                                    Hi there   \n",
            "3                            []                                 How are you   \n",
            "4                            []                                 How are you   \n",
            "..                          ...                                         ...   \n",
            "86  [search_hospital_by_params]                         Lookup for hospital   \n",
            "87  [search_hospital_by_params]  Searching for hospital to transfer patient   \n",
            "88  [search_hospital_by_params]              I want to search hospital data   \n",
            "89  [search_hospital_by_params]                 Hospital lookup for patient   \n",
            "90  [search_hospital_by_params]                 Looking up hospital details   \n",
            "\n",
            "                                    response  \n",
            "0                   Hello, thanks for asking  \n",
            "1                      Good to see you again  \n",
            "2                  Hi there, how can I help?  \n",
            "3                   Hello, thanks for asking  \n",
            "4                      Good to see you again  \n",
            "..                                       ...  \n",
            "86  Please provide hospital name or location  \n",
            "87  Please provide hospital name or location  \n",
            "88  Please provide hospital name or location  \n",
            "89  Please provide hospital name or location  \n",
            "90  Please provide hospital name or location  \n",
            "\n",
            "[91 rows x 6 columns]\n"
          ]
        }
      ]
    },
    {
      "cell_type": "code",
      "source": [
        "# Vectorizar el texto\n",
        "vectorizer = CountVectorizer()\n",
        "X = vectorizer.fit_transform(df_intents['pattern'])\n",
        "\n",
        "# Variables dependientes e independientes\n",
        "Y = df_intents['tag']\n",
        "\n",
        "# Dividir el conjunto de datos\n",
        "X_train, X_test, Y_train, Y_test = train_test_split(X, Y, test_size=0.2, random_state=42)\n",
        "\n",
        "# Escalar los datos\n",
        "scaler = StandardScaler(with_mean=False, with_std=True)\n",
        "X_train_scaled = scaler.fit_transform(X_train)\n",
        "X_test_scaled = scaler.transform(X_test)\n",
        "\n",
        "# Convertir la matriz dispersa a densa\n",
        "X_train_scaled_dense = X_train_scaled.toarray()"
      ],
      "metadata": {
        "id": "RB9QyUK6w6WS"
      },
      "execution_count": null,
      "outputs": []
    },
    {
      "cell_type": "code",
      "source": [
        "# Inicializar clasificadores\n",
        "knn_classifier = KNeighborsClassifier()\n",
        "svm_classifier = SVC()\n",
        "dt_classifier = DecisionTreeClassifier()\n",
        "nb_classifier = GaussianNB()\n",
        "rf_classifier = RandomForestClassifier()\n",
        "\n",
        "# Crear un clasificador de votación\n",
        "voting_classifier = VotingClassifier(estimators=[\n",
        "    ('knn', knn_classifier),\n",
        "    ('svm', svm_classifier),\n",
        "    ('dt', dt_classifier),\n",
        "    ('nb', nb_classifier),\n",
        "    ('rf', rf_classifier)\n",
        "], voting='hard')\n",
        "\n",
        "# Lista de clasificadores\n",
        "clasificadores = [knn_classifier, svm_classifier, dt_classifier, nb_classifier, rf_classifier, voting_classifier]\n",
        "\n",
        "# Realizar validación cruzada con KFold\n",
        "kf = KFold(n_splits=5, shuffle=True, random_state=42)\n",
        "\n",
        "for clf in clasificadores:\n",
        "    # Obtener las predicciones de la validación cruzada\n",
        "    Y_pred_cv = cross_val_predict(clf, X_train_scaled_dense, Y_train, cv=kf)\n",
        "\n",
        "    # Calcular y mostrar la matriz de confusión\n",
        "    cm = confusion_matrix(Y_train, Y_pred_cv)\n",
        "    print(f\"Clasificador: {clf.__class__.__name__}\")\n",
        "    print(\"Matriz de Confusión:\")\n",
        "    print(cm)\n",
        "\n",
        "    # Calcular y mostrar la precisión, recall y F1-score\n",
        "    precision = precision_score(Y_train, Y_pred_cv, average='macro', zero_division=1)\n",
        "    recall = recall_score(Y_train, Y_pred_cv, average='macro')\n",
        "    f1 = f1_score(Y_train, Y_pred_cv, average='macro')\n",
        "\n",
        "    print(f\"Precisión: {precision}\")\n",
        "    print(f\"Recall: {recall}\")\n",
        "    print(f\"F1-score: {f1}\")\n",
        "    print(\"=\" * 40)\n",
        "\n",
        "# Entrenar el clasificador de votación con los datos de entrenamiento\n",
        "voting_classifier.fit(X_train_scaled_dense, Y_train)"
      ],
      "metadata": {
        "colab": {
          "base_uri": "https://localhost:8080/",
          "height": 1000
        },
        "id": "TkWb26v7yC6E",
        "outputId": "dc207976-70e5-4de5-da72-255c49e5cfa8"
      },
      "execution_count": null,
      "outputs": [
        {
          "output_type": "stream",
          "name": "stdout",
          "text": [
            "Clasificador: KNeighborsClassifier\n",
            "Matriz de Confusión:\n",
            "[[ 0  0  0  3  0  0  0  0  1]\n",
            " [ 0  0  1  0  0  0  0  0  2]\n",
            " [ 0  0  8  0  0  0  0  0  2]\n",
            " [ 0  0  0  4  0  0  0  0  7]\n",
            " [ 0  0  0  6  1  0  0  0  9]\n",
            " [ 0  0  1  1  0  0  0  0  2]\n",
            " [ 0  0  0  3  0  0  0  0  6]\n",
            " [ 0  0  0  2  0  0  0  0  2]\n",
            " [ 0  0  0  0  0  0  0  0 11]]\n",
            "Precisión: 0.8080478975215817\n",
            "Recall: 0.24734848484848485\n",
            "F1-score: 0.17771200723475974\n",
            "========================================\n",
            "Clasificador: SVC\n",
            "Matriz de Confusión:\n",
            "[[ 0  0  0  0  0  0  4  0  0]\n",
            " [ 0  0  2  0  0  0  1  0  0]\n",
            " [ 0  0 10  0  0  0  0  0  0]\n",
            " [ 0  0  0  6  5  0  0  0  0]\n",
            " [ 0  0  0  0 16  0  0  0  0]\n",
            " [ 1  0  0  0  0  2  1  0  0]\n",
            " [ 0  0  0  0  0  0  9  0  0]\n",
            " [ 1  0  0  0  2  0  0  1  0]\n",
            " [ 0  0  0  0  1  0  0  0 10]]\n",
            "Precisión: 0.7888888888888889\n",
            "Recall: 0.5782828282828283\n",
            "F1-score: 0.5760023201199672\n",
            "========================================\n",
            "Clasificador: DecisionTreeClassifier\n",
            "Matriz de Confusión:\n",
            "[[ 2  0  0  0  1  0  1  0  0]\n",
            " [ 0  0  3  0  0  0  0  0  0]\n",
            " [ 0  0 10  0  0  0  0  0  0]\n",
            " [ 0  0  0  7  4  0  0  0  0]\n",
            " [ 0  0  0  0 16  0  0  0  0]\n",
            " [ 0  0  0  0  1  3  0  0  0]\n",
            " [ 0  0  0  0  0  0  9  0  0]\n",
            " [ 0  0  0  0  1  0  0  3  0]\n",
            " [ 0  0  0  0  0  0  1  0 10]]\n",
            "Precisión: 0.9203405290361812\n",
            "Recall: 0.7272727272727273\n",
            "F1-score: 0.744576572112804\n",
            "========================================\n",
            "Clasificador: GaussianNB\n",
            "Matriz de Confusión:\n",
            "[[ 1  0  0  0  1  0  0  2  0]\n",
            " [ 0  1  2  0  0  0  0  0  0]\n",
            " [ 0  0 10  0  0  0  0  0  0]\n",
            " [ 0  0  0  7  0  0  0  0  4]\n",
            " [ 0  0  0  0 14  0  0  2  0]\n",
            " [ 0  0  0  0  0  4  0  0  0]\n",
            " [ 0  0  0  0  0  0  9  0  0]\n",
            " [ 1  0  0  0  0  0  0  3  0]\n",
            " [ 0  0  0  1  0  0  0  0 10]]\n",
            "Precisión: 0.8093915343915344\n",
            "Recall: 0.7504208754208754\n",
            "F1-score: 0.7475496332881731\n",
            "========================================\n",
            "Clasificador: RandomForestClassifier\n",
            "Matriz de Confusión:\n",
            "[[ 1  0  0  0  2  0  0  1  0]\n",
            " [ 0  1  2  0  0  0  0  0  0]\n",
            " [ 0  0 10  0  0  0  0  0  0]\n",
            " [ 0  0  0  7  4  0  0  0  0]\n",
            " [ 0  0  0  0 16  0  0  0  0]\n",
            " [ 0  0  0  0  1  3  0  0  0]\n",
            " [ 0  0  0  0  0  0  9  0  0]\n",
            " [ 0  0  0  0  2  0  0  2  0]\n",
            " [ 0  0  0  1  0  0  0  0 10]]\n",
            "Precisión: 0.8905555555555557\n",
            "Recall: 0.7087542087542088\n",
            "F1-score: 0.7452636889093885\n",
            "========================================\n",
            "Clasificador: VotingClassifier\n",
            "Matriz de Confusión:\n",
            "[[ 1  0  0  0  2  0  0  1  0]\n",
            " [ 0  0  3  0  0  0  0  0  0]\n",
            " [ 0  0 10  0  0  0  0  0  0]\n",
            " [ 0  0  0  7  4  0  0  0  0]\n",
            " [ 0  0  0  0 16  0  0  0  0]\n",
            " [ 0  0  0  0  1  3  0  0  0]\n",
            " [ 0  0  0  0  0  0  9  0  0]\n",
            " [ 1  0  0  0  1  0  0  2  0]\n",
            " [ 0  0  0  1  0  0  0  0 10]]\n",
            "Precisión: 0.8308404558404558\n",
            "Recall: 0.6717171717171717\n",
            "F1-score: 0.680077004104464\n",
            "========================================\n"
          ]
        },
        {
          "output_type": "execute_result",
          "data": {
            "text/plain": [
              "VotingClassifier(estimators=[('knn', KNeighborsClassifier()), ('svm', SVC()),\n",
              "                             ('dt', DecisionTreeClassifier()),\n",
              "                             ('nb', GaussianNB()),\n",
              "                             ('rf', RandomForestClassifier())])"
            ],
            "text/html": [
              "<style>#sk-container-id-1 {color: black;background-color: white;}#sk-container-id-1 pre{padding: 0;}#sk-container-id-1 div.sk-toggleable {background-color: white;}#sk-container-id-1 label.sk-toggleable__label {cursor: pointer;display: block;width: 100%;margin-bottom: 0;padding: 0.3em;box-sizing: border-box;text-align: center;}#sk-container-id-1 label.sk-toggleable__label-arrow:before {content: \"▸\";float: left;margin-right: 0.25em;color: #696969;}#sk-container-id-1 label.sk-toggleable__label-arrow:hover:before {color: black;}#sk-container-id-1 div.sk-estimator:hover label.sk-toggleable__label-arrow:before {color: black;}#sk-container-id-1 div.sk-toggleable__content {max-height: 0;max-width: 0;overflow: hidden;text-align: left;background-color: #f0f8ff;}#sk-container-id-1 div.sk-toggleable__content pre {margin: 0.2em;color: black;border-radius: 0.25em;background-color: #f0f8ff;}#sk-container-id-1 input.sk-toggleable__control:checked~div.sk-toggleable__content {max-height: 200px;max-width: 100%;overflow: auto;}#sk-container-id-1 input.sk-toggleable__control:checked~label.sk-toggleable__label-arrow:before {content: \"▾\";}#sk-container-id-1 div.sk-estimator input.sk-toggleable__control:checked~label.sk-toggleable__label {background-color: #d4ebff;}#sk-container-id-1 div.sk-label input.sk-toggleable__control:checked~label.sk-toggleable__label {background-color: #d4ebff;}#sk-container-id-1 input.sk-hidden--visually {border: 0;clip: rect(1px 1px 1px 1px);clip: rect(1px, 1px, 1px, 1px);height: 1px;margin: -1px;overflow: hidden;padding: 0;position: absolute;width: 1px;}#sk-container-id-1 div.sk-estimator {font-family: monospace;background-color: #f0f8ff;border: 1px dotted black;border-radius: 0.25em;box-sizing: border-box;margin-bottom: 0.5em;}#sk-container-id-1 div.sk-estimator:hover {background-color: #d4ebff;}#sk-container-id-1 div.sk-parallel-item::after {content: \"\";width: 100%;border-bottom: 1px solid gray;flex-grow: 1;}#sk-container-id-1 div.sk-label:hover label.sk-toggleable__label {background-color: #d4ebff;}#sk-container-id-1 div.sk-serial::before {content: \"\";position: absolute;border-left: 1px solid gray;box-sizing: border-box;top: 0;bottom: 0;left: 50%;z-index: 0;}#sk-container-id-1 div.sk-serial {display: flex;flex-direction: column;align-items: center;background-color: white;padding-right: 0.2em;padding-left: 0.2em;position: relative;}#sk-container-id-1 div.sk-item {position: relative;z-index: 1;}#sk-container-id-1 div.sk-parallel {display: flex;align-items: stretch;justify-content: center;background-color: white;position: relative;}#sk-container-id-1 div.sk-item::before, #sk-container-id-1 div.sk-parallel-item::before {content: \"\";position: absolute;border-left: 1px solid gray;box-sizing: border-box;top: 0;bottom: 0;left: 50%;z-index: -1;}#sk-container-id-1 div.sk-parallel-item {display: flex;flex-direction: column;z-index: 1;position: relative;background-color: white;}#sk-container-id-1 div.sk-parallel-item:first-child::after {align-self: flex-end;width: 50%;}#sk-container-id-1 div.sk-parallel-item:last-child::after {align-self: flex-start;width: 50%;}#sk-container-id-1 div.sk-parallel-item:only-child::after {width: 0;}#sk-container-id-1 div.sk-dashed-wrapped {border: 1px dashed gray;margin: 0 0.4em 0.5em 0.4em;box-sizing: border-box;padding-bottom: 0.4em;background-color: white;}#sk-container-id-1 div.sk-label label {font-family: monospace;font-weight: bold;display: inline-block;line-height: 1.2em;}#sk-container-id-1 div.sk-label-container {text-align: center;}#sk-container-id-1 div.sk-container {/* jupyter's `normalize.less` sets `[hidden] { display: none; }` but bootstrap.min.css set `[hidden] { display: none !important; }` so we also need the `!important` here to be able to override the default hidden behavior on the sphinx rendered scikit-learn.org. See: https://github.com/scikit-learn/scikit-learn/issues/21755 */display: inline-block !important;position: relative;}#sk-container-id-1 div.sk-text-repr-fallback {display: none;}</style><div id=\"sk-container-id-1\" class=\"sk-top-container\"><div class=\"sk-text-repr-fallback\"><pre>VotingClassifier(estimators=[(&#x27;knn&#x27;, KNeighborsClassifier()), (&#x27;svm&#x27;, SVC()),\n",
              "                             (&#x27;dt&#x27;, DecisionTreeClassifier()),\n",
              "                             (&#x27;nb&#x27;, GaussianNB()),\n",
              "                             (&#x27;rf&#x27;, RandomForestClassifier())])</pre><b>In a Jupyter environment, please rerun this cell to show the HTML representation or trust the notebook. <br />On GitHub, the HTML representation is unable to render, please try loading this page with nbviewer.org.</b></div><div class=\"sk-container\" hidden><div class=\"sk-item sk-dashed-wrapped\"><div class=\"sk-label-container\"><div class=\"sk-label sk-toggleable\"><input class=\"sk-toggleable__control sk-hidden--visually\" id=\"sk-estimator-id-1\" type=\"checkbox\" ><label for=\"sk-estimator-id-1\" class=\"sk-toggleable__label sk-toggleable__label-arrow\">VotingClassifier</label><div class=\"sk-toggleable__content\"><pre>VotingClassifier(estimators=[(&#x27;knn&#x27;, KNeighborsClassifier()), (&#x27;svm&#x27;, SVC()),\n",
              "                             (&#x27;dt&#x27;, DecisionTreeClassifier()),\n",
              "                             (&#x27;nb&#x27;, GaussianNB()),\n",
              "                             (&#x27;rf&#x27;, RandomForestClassifier())])</pre></div></div></div><div class=\"sk-parallel\"><div class=\"sk-parallel-item\"><div class=\"sk-item\"><div class=\"sk-label-container\"><div class=\"sk-label sk-toggleable\"><label>knn</label></div></div><div class=\"sk-serial\"><div class=\"sk-item\"><div class=\"sk-estimator sk-toggleable\"><input class=\"sk-toggleable__control sk-hidden--visually\" id=\"sk-estimator-id-2\" type=\"checkbox\" ><label for=\"sk-estimator-id-2\" class=\"sk-toggleable__label sk-toggleable__label-arrow\">KNeighborsClassifier</label><div class=\"sk-toggleable__content\"><pre>KNeighborsClassifier()</pre></div></div></div></div></div></div><div class=\"sk-parallel-item\"><div class=\"sk-item\"><div class=\"sk-label-container\"><div class=\"sk-label sk-toggleable\"><label>svm</label></div></div><div class=\"sk-serial\"><div class=\"sk-item\"><div class=\"sk-estimator sk-toggleable\"><input class=\"sk-toggleable__control sk-hidden--visually\" id=\"sk-estimator-id-3\" type=\"checkbox\" ><label for=\"sk-estimator-id-3\" class=\"sk-toggleable__label sk-toggleable__label-arrow\">SVC</label><div class=\"sk-toggleable__content\"><pre>SVC()</pre></div></div></div></div></div></div><div class=\"sk-parallel-item\"><div class=\"sk-item\"><div class=\"sk-label-container\"><div class=\"sk-label sk-toggleable\"><label>dt</label></div></div><div class=\"sk-serial\"><div class=\"sk-item\"><div class=\"sk-estimator sk-toggleable\"><input class=\"sk-toggleable__control sk-hidden--visually\" id=\"sk-estimator-id-4\" type=\"checkbox\" ><label for=\"sk-estimator-id-4\" class=\"sk-toggleable__label sk-toggleable__label-arrow\">DecisionTreeClassifier</label><div class=\"sk-toggleable__content\"><pre>DecisionTreeClassifier()</pre></div></div></div></div></div></div><div class=\"sk-parallel-item\"><div class=\"sk-item\"><div class=\"sk-label-container\"><div class=\"sk-label sk-toggleable\"><label>nb</label></div></div><div class=\"sk-serial\"><div class=\"sk-item\"><div class=\"sk-estimator sk-toggleable\"><input class=\"sk-toggleable__control sk-hidden--visually\" id=\"sk-estimator-id-5\" type=\"checkbox\" ><label for=\"sk-estimator-id-5\" class=\"sk-toggleable__label sk-toggleable__label-arrow\">GaussianNB</label><div class=\"sk-toggleable__content\"><pre>GaussianNB()</pre></div></div></div></div></div></div><div class=\"sk-parallel-item\"><div class=\"sk-item\"><div class=\"sk-label-container\"><div class=\"sk-label sk-toggleable\"><label>rf</label></div></div><div class=\"sk-serial\"><div class=\"sk-item\"><div class=\"sk-estimator sk-toggleable\"><input class=\"sk-toggleable__control sk-hidden--visually\" id=\"sk-estimator-id-6\" type=\"checkbox\" ><label for=\"sk-estimator-id-6\" class=\"sk-toggleable__label sk-toggleable__label-arrow\">RandomForestClassifier</label><div class=\"sk-toggleable__content\"><pre>RandomForestClassifier()</pre></div></div></div></div></div></div></div></div></div></div>"
            ]
          },
          "metadata": {},
          "execution_count": 6
        }
      ]
    },
    {
      "cell_type": "code",
      "source": [
        "def train_and_evaluate(classifier, name, X_train, Y_train, X_test, Y_test):\n",
        "    # Entrenar el clasificador\n",
        "    classifier.fit(X_train, Y_train)\n",
        "\n",
        "    # Obtener las predicciones en el conjunto de prueba\n",
        "    Y_pred = classifier.predict(X_test)\n",
        "\n",
        "    # Calcular y mostrar la matriz de confusión\n",
        "    cm = confusion_matrix(Y_test, Y_pred)\n",
        "    print(f\"Modelo: {name}\")\n",
        "    print(\"Matriz de Confusión:\")\n",
        "    print(cm)\n",
        "\n",
        "    # Calcular y mostrar la precisión, recall y F1-score\n",
        "    precision = precision_score(Y_test, Y_pred, average='macro', zero_division=1)\n",
        "    recall = recall_score(Y_test, Y_pred, average='macro')\n",
        "    f1 = f1_score(Y_test, Y_pred, average='macro')\n",
        "\n",
        "    print(f\"Precisión: {precision}\")\n",
        "    print(f\"Recall: {recall}\")\n",
        "    print(f\"F1-score: {f1}\")\n",
        "    print(\"=\" * 40)"
      ],
      "metadata": {
        "id": "GlX0yX53RnVd"
      },
      "execution_count": null,
      "outputs": []
    },
    {
      "cell_type": "code",
      "source": [
        "# Inicializar y entrenar modelos\n",
        "train_and_evaluate(knn_classifier, 'KNeighborsClassifier', X_train_scaled, Y_train, X_test_scaled, Y_test)\n",
        "train_and_evaluate(svm_classifier, 'SVC', X_train_scaled, Y_train, X_test_scaled, Y_test)\n",
        "train_and_evaluate(dt_classifier, 'DecisionTreeClassifier', X_train_scaled, Y_train, X_test_scaled, Y_test)\n",
        "train_and_evaluate(rf_classifier, 'RandomForestClassifier', X_train_scaled, Y_train, X_test_scaled, Y_test)\n",
        "train_and_evaluate(voting_classifier, 'VotingClassifier', X_train_scaled_dense, Y_train, X_test_scaled.toarray(), Y_test)"
      ],
      "metadata": {
        "colab": {
          "base_uri": "https://localhost:8080/"
        },
        "id": "itp_V2lJSHr-",
        "outputId": "6d786755-ab54-4e4e-ace6-1531acece41b"
      },
      "execution_count": null,
      "outputs": [
        {
          "output_type": "stream",
          "name": "stdout",
          "text": [
            "Modelo: KNeighborsClassifier\n",
            "Matriz de Confusión:\n",
            "[[0 0 0 0 0 0 0 0 1]\n",
            " [0 0 1 0 0 0 0 0 1]\n",
            " [0 0 0 0 0 0 0 0 0]\n",
            " [0 0 0 0 0 0 0 0 4]\n",
            " [0 0 0 0 0 0 0 0 5]\n",
            " [0 0 0 0 0 0 0 0 1]\n",
            " [0 0 0 0 0 0 0 0 1]\n",
            " [0 0 0 0 0 0 0 0 1]\n",
            " [0 0 0 0 0 0 0 0 4]]\n",
            "Precisión: 0.8024691358024691\n",
            "Recall: 0.1111111111111111\n",
            "F1-score: 0.0404040404040404\n",
            "========================================\n",
            "Modelo: SVC\n",
            "Matriz de Confusión:\n",
            "[[0 0 0 0 1 0 0 0 0]\n",
            " [0 0 2 0 0 0 0 0 0]\n",
            " [0 0 0 0 0 0 0 0 0]\n",
            " [0 0 0 4 0 0 0 0 0]\n",
            " [0 0 0 0 5 0 0 0 0]\n",
            " [0 0 0 0 0 0 1 0 0]\n",
            " [0 0 0 0 0 0 1 0 0]\n",
            " [0 0 0 0 0 0 0 1 0]\n",
            " [0 0 0 0 0 0 0 0 4]]\n",
            "Precisión: 0.8148148148148149\n",
            "Recall: 0.5555555555555556\n",
            "F1-score: 0.5084175084175084\n",
            "========================================\n",
            "Modelo: DecisionTreeClassifier\n",
            "Matriz de Confusión:\n",
            "[[1 0 0 0 0 0 0 0 0]\n",
            " [0 1 1 0 0 0 0 0 0]\n",
            " [0 0 0 0 0 0 0 0 0]\n",
            " [0 0 0 4 0 0 0 0 0]\n",
            " [0 0 0 0 5 0 0 0 0]\n",
            " [0 0 0 0 0 1 0 0 0]\n",
            " [0 0 0 0 0 0 1 0 0]\n",
            " [0 0 0 0 0 0 0 1 0]\n",
            " [0 0 0 0 0 0 0 0 4]]\n",
            "Precisión: 0.8888888888888888\n",
            "Recall: 0.8333333333333334\n",
            "F1-score: 0.8518518518518517\n",
            "========================================\n"
          ]
        },
        {
          "output_type": "stream",
          "name": "stderr",
          "text": [
            "/usr/local/lib/python3.10/dist-packages/sklearn/metrics/_classification.py:1344: UndefinedMetricWarning: Recall is ill-defined and being set to 0.0 in labels with no true samples. Use `zero_division` parameter to control this behavior.\n",
            "  _warn_prf(average, modifier, msg_start, len(result))\n",
            "/usr/local/lib/python3.10/dist-packages/sklearn/metrics/_classification.py:1344: UndefinedMetricWarning: Recall is ill-defined and being set to 0.0 in labels with no true samples. Use `zero_division` parameter to control this behavior.\n",
            "  _warn_prf(average, modifier, msg_start, len(result))\n",
            "/usr/local/lib/python3.10/dist-packages/sklearn/metrics/_classification.py:1344: UndefinedMetricWarning: Recall is ill-defined and being set to 0.0 in labels with no true samples. Use `zero_division` parameter to control this behavior.\n",
            "  _warn_prf(average, modifier, msg_start, len(result))\n"
          ]
        },
        {
          "output_type": "stream",
          "name": "stdout",
          "text": [
            "Modelo: RandomForestClassifier\n",
            "Matriz de Confusión:\n",
            "[[1 0 0 0 0 0 0 0 0]\n",
            " [0 1 1 0 0 0 0 0 0]\n",
            " [0 0 0 0 0 0 0 0 0]\n",
            " [0 0 0 4 0 0 0 0 0]\n",
            " [0 0 0 0 5 0 0 0 0]\n",
            " [0 0 0 0 0 1 0 0 0]\n",
            " [0 0 0 0 0 0 1 0 0]\n",
            " [0 0 0 0 0 0 0 1 0]\n",
            " [0 0 0 0 0 0 0 0 4]]\n",
            "Precisión: 0.8888888888888888\n",
            "Recall: 0.8333333333333334\n",
            "F1-score: 0.8518518518518517\n",
            "========================================\n"
          ]
        },
        {
          "output_type": "stream",
          "name": "stderr",
          "text": [
            "/usr/local/lib/python3.10/dist-packages/sklearn/metrics/_classification.py:1344: UndefinedMetricWarning: Recall is ill-defined and being set to 0.0 in labels with no true samples. Use `zero_division` parameter to control this behavior.\n",
            "  _warn_prf(average, modifier, msg_start, len(result))\n"
          ]
        },
        {
          "output_type": "stream",
          "name": "stdout",
          "text": [
            "Modelo: VotingClassifier\n",
            "Matriz de Confusión:\n",
            "[[1 0 0 0 0 0 0 0 0]\n",
            " [0 1 1 0 0 0 0 0 0]\n",
            " [0 0 0 0 0 0 0 0 0]\n",
            " [0 0 0 4 0 0 0 0 0]\n",
            " [0 0 0 0 5 0 0 0 0]\n",
            " [0 0 0 0 0 1 0 0 0]\n",
            " [0 0 0 0 0 0 1 0 0]\n",
            " [0 0 0 0 0 0 0 1 0]\n",
            " [0 0 0 0 0 0 0 0 4]]\n",
            "Precisión: 0.8888888888888888\n",
            "Recall: 0.8333333333333334\n",
            "F1-score: 0.8518518518518517\n",
            "========================================\n"
          ]
        },
        {
          "output_type": "stream",
          "name": "stderr",
          "text": [
            "/usr/local/lib/python3.10/dist-packages/sklearn/metrics/_classification.py:1344: UndefinedMetricWarning: Recall is ill-defined and being set to 0.0 in labels with no true samples. Use `zero_division` parameter to control this behavior.\n",
            "  _warn_prf(average, modifier, msg_start, len(result))\n"
          ]
        }
      ]
    },
    {
      "cell_type": "code",
      "source": [
        "while True:\n",
        "    # Obtener la entrada del usuario\n",
        "    user_input_text = input(\"Usuario: \")\n",
        "\n",
        "    # Salir del bucle si el usuario ingresa 'salir'\n",
        "    if user_input_text.lower() == 'salir':\n",
        "        print(\"¡Hasta luego!\")\n",
        "        break\n",
        "\n",
        "    # Vectorizar la entrada del usuario\n",
        "    user_input = vectorizer.transform([user_input_text])\n",
        "\n",
        "    # Convertir la matriz dispersa a densa\n",
        "    user_input_dense = user_input.toarray()\n",
        "\n",
        "    # Escalar la entrada del usuario\n",
        "    user_input_scaled = scaler.transform(user_input_dense)\n",
        "\n",
        "    # Obtener la predicción del clasificador de votación\n",
        "    user_prediction = voting_classifier.predict(user_input_scaled)\n",
        "\n",
        "    # Obtener la respuesta asociada a la predicción\n",
        "    response_index = classes.index(user_prediction[0])\n",
        "\n",
        "    # Obtener la respuesta asociada a la predicción\n",
        "    predicted_class = user_prediction[0]\n",
        "    if predicted_class in classes:\n",
        "        response_index = classes.index(predicted_class)\n",
        "        if response_index in df_intents.index:\n",
        "            bot_response = df_intents.loc[df_intents.index == response_index, 'response'].values[0]\n",
        "            print(\"Chatbot:\", bot_response)\n",
        "        else:\n",
        "            print(\"Chatbot: Lo siento, no tengo una respuesta para eso.\")\n",
        "    else:\n",
        "        print(\"Chatbot: Clase predicha no encontrada en la lista de clases.\")"
      ],
      "metadata": {
        "id": "bf2Al3i003in",
        "colab": {
          "base_uri": "https://localhost:8080/"
        },
        "outputId": "08b53b7c-05b0-4ee4-8395-6064f6c78202"
      },
      "execution_count": null,
      "outputs": [
        {
          "output_type": "stream",
          "name": "stdout",
          "text": [
            "Usuario: hello how are you?\n",
            "Chatbot: Good to see you again\n",
            "Usuario: what can you do?\n",
            "Chatbot: Hello, thanks for asking\n"
          ]
        }
      ]
    }
  ],
  "metadata": {
    "colab": {
      "provenance": [],
      "include_colab_link": true
    },
    "kernelspec": {
      "display_name": "Python 3",
      "language": "python",
      "name": "python3"
    },
    "language_info": {
      "codemirror_mode": {
        "name": "ipython",
        "version": 3
      },
      "file_extension": ".py",
      "mimetype": "text/x-python",
      "name": "python",
      "nbconvert_exporter": "python",
      "pygments_lexer": "ipython3",
      "version": "3.7.4"
    }
  },
  "nbformat": 4,
  "nbformat_minor": 0
}